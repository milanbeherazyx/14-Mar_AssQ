{
 "cells": [
  {
   "attachments": {},
   "cell_type": "markdown",
   "metadata": {},
   "source": [
    "# Q1. Write a Python function that takes in two arrays of data and calculates the F-value for a variance ratio test. The function should return the F-value and the corresponding p-value for the test."
   ]
  },
  {
   "cell_type": "code",
   "execution_count": 1,
   "metadata": {},
   "outputs": [],
   "source": [
    "import numpy as np\n",
    "from scipy.stats import f\n",
    "\n",
    "def variance_ratio_test(x, y):\n",
    "    \"\"\"\n",
    "    Calculates the F-value and corresponding p-value for a variance ratio test.\n",
    "    \n",
    "    Parameters:\n",
    "    x (array): The first array of data.\n",
    "    y (array): The second array of data.\n",
    "    \n",
    "    Returns:\n",
    "    f_value (float): The F-value for the variance ratio test.\n",
    "    p_value (float): The corresponding p-value for the test.\n",
    "    \"\"\"\n",
    "    n_x = len(x)\n",
    "    n_y = len(y)\n",
    "    var_x = np.var(x, ddof=1)\n",
    "    var_y = np.var(y, ddof=1)\n",
    "    if var_x > var_y:\n",
    "        f_value = var_x / var_y\n",
    "        df1 = n_x - 1\n",
    "        df2 = n_y - 1\n",
    "    else:\n",
    "        f_value = var_y / var_x\n",
    "        df1 = n_y - 1\n",
    "        df2 = n_x - 1\n",
    "    p_value = f.sf(f_value, df1, df2)\n",
    "    return f_value, p_value\n"
   ]
  },
  {
   "cell_type": "code",
   "execution_count": 2,
   "metadata": {},
   "outputs": [
    {
     "name": "stdout",
     "output_type": "stream",
     "text": [
      "F-value: 1.00\n",
      "p-value: 0.5000\n"
     ]
    }
   ],
   "source": [
    "x = [2, 4, 6, 8, 10]\n",
    "y = [1, 3, 5, 7, 9]\n",
    "f_value, p_value = variance_ratio_test(x, y)\n",
    "print(f\"F-value: {f_value:.2f}\")\n",
    "print(f\"p-value: {p_value:.4f}\")\n"
   ]
  },
  {
   "attachments": {},
   "cell_type": "markdown",
   "metadata": {},
   "source": [
    "# Q2. Given a significance level of 0.05 and the degrees of freedom for the numerator and denominator of an F-distribution, write a Python function that returns the critical F-value for a two-tailed test."
   ]
  },
  {
   "cell_type": "code",
   "execution_count": 3,
   "metadata": {},
   "outputs": [],
   "source": [
    "from scipy.stats import f\n",
    "\n",
    "def critical_f_value(dfn, dfd):\n",
    "    \"\"\"\n",
    "    Calculates the critical F-value for a two-tailed test given a significance level of 0.05\n",
    "    and the degrees of freedom for the numerator and denominator of an F-distribution.\n",
    "    \n",
    "    Parameters:\n",
    "    dfn (int): The degrees of freedom for the numerator.\n",
    "    dfd (int): The degrees of freedom for the denominator.\n",
    "    \n",
    "    \n",
    "    Returns:\n",
    "    f_crit (float): The critical F-value for a two-tailed test.\n",
    "    \"\"\"\n",
    "    alpha = 0.05\n",
    "    f_crit = f.ppf(1 - alpha/2, dfn, dfd)\n",
    "    return f_crit\n"
   ]
  },
  {
   "cell_type": "code",
   "execution_count": 4,
   "metadata": {},
   "outputs": [
    {
     "name": "stdout",
     "output_type": "stream",
     "text": [
      "Critical F-value: 4.2361\n"
     ]
    }
   ],
   "source": [
    "dfn = 5\n",
    "dfd = 10\n",
    "f_crit = critical_f_value(dfn, dfd)\n",
    "print(f\"Critical F-value: {f_crit:.4f}\")\n"
   ]
  },
  {
   "attachments": {},
   "cell_type": "markdown",
   "metadata": {},
   "source": [
    "# Q3. Write a Python program that generates random samples from two normal distributions with known variances and uses an F-test to determine if the variances are equal. The program should output the F-value, degrees of freedom, and p-value for the test."
   ]
  },
  {
   "cell_type": "code",
   "execution_count": 7,
   "metadata": {},
   "outputs": [
    {
     "name": "stdout",
     "output_type": "stream",
     "text": [
      "F-value: 1.3181\n",
      "Degrees of freedom (numerator, denominator): (19, 19)\n",
      "p-value: 0.5531\n"
     ]
    }
   ],
   "source": [
    "import numpy as np\n",
    "from scipy.stats import f\n",
    "\n",
    "# Set seed for reproducibility\n",
    "np.random.seed(123)\n",
    "\n",
    "# Generate random samples from two normal distributions with known variances\n",
    "var1 = 4\n",
    "var2 = 4\n",
    "n1 = 20\n",
    "n2 = 20\n",
    "sample1 = np.random.normal(loc=0, scale=np.sqrt(var1), size=n1)\n",
    "sample2 = np.random.normal(loc=0, scale=np.sqrt(var2), size=n2)\n",
    "\n",
    "# Perform F-test for equal variances\n",
    "f_value = np.var(sample1, ddof=1) / np.var(sample2, ddof=1)\n",
    "dfn = n1 - 1\n",
    "dfd = n2 - 1\n",
    "p_value = f.sf(f_value, dfn, dfd) * 2  # two-tailed test\n",
    "\n",
    "# Print results\n",
    "print(f\"F-value: {f_value:.4f}\")\n",
    "print(f\"Degrees of freedom (numerator, denominator): ({dfn}, {dfd})\")\n",
    "print(f\"p-value: {p_value:.4f}\")\n"
   ]
  },
  {
   "attachments": {},
   "cell_type": "markdown",
   "metadata": {},
   "source": [
    "# Q4.The variances of two populations are known to be 10 and 15. A sample of 12 observations is taken from beach population. Conduct an F-test at the 5% significance level to determine if the variances are significantly different."
   ]
  },
  {
   "cell_type": "code",
   "execution_count": 8,
   "metadata": {},
   "outputs": [
    {
     "name": "stdout",
     "output_type": "stream",
     "text": [
      "Fail to reject the null hypothesis.\n",
      "F-statistic: 0.6666666666666666\n",
      "Degrees of freedom: 11 11\n",
      "p-value: 1.4876102012642\n"
     ]
    }
   ],
   "source": [
    "from scipy.stats import f\n",
    "\n",
    "# Define the sample sizes and known variances\n",
    "n1 = 12\n",
    "n2 = 12\n",
    "var1 = 10\n",
    "var2 = 15\n",
    "\n",
    "# Calculate the F-statistic\n",
    "F = var1 / var2\n",
    "\n",
    "# Calculate the p-value\n",
    "p = 2 * (1 - f.cdf(F, n1 - 1, n2 - 1))\n",
    "\n",
    "# Define the level of significance\n",
    "alpha = 0.05\n",
    "\n",
    "# Determine if we reject or fail to reject the null hypothesis\n",
    "if p < alpha:\n",
    "    print(\"Reject the null hypothesis.\")\n",
    "else:\n",
    "    print(\"Fail to reject the null hypothesis.\")\n",
    "\n",
    "# Print the F-statistic, degrees of freedom, and p-value\n",
    "print(\"F-statistic:\", F)\n",
    "print(\"Degrees of freedom:\", n1 - 1, n2 - 1)\n",
    "print(\"p-value:\", p)\n"
   ]
  },
  {
   "attachments": {},
   "cell_type": "markdown",
   "metadata": {},
   "source": [
    "# Q5. A manufacturer claims that the variance of the diameter of a certain product is 0.005. A sample of 25 products is taken, and the sample variance is found to be 0.006. Conduct an F-test at the 1% significance level to determine if the claim is justified."
   ]
  },
  {
   "cell_type": "code",
   "execution_count": 9,
   "metadata": {},
   "outputs": [
    {
     "name": "stdout",
     "output_type": "stream",
     "text": [
      "Fail to reject the null hypothesis.\n",
      "F-statistic: 1.2\n",
      "Degrees of freedom: 24 24\n",
      "p-value: 0.3293654682817244\n"
     ]
    }
   ],
   "source": [
    "from scipy.stats import f\n",
    "\n",
    "# Define the sample size, known variance, and sample variance\n",
    "n = 25\n",
    "var = 0.005\n",
    "sample_var = 0.006\n",
    "\n",
    "# Calculate the F-statistic\n",
    "F = sample_var / var\n",
    "\n",
    "# Calculate the p-value\n",
    "p = 1 - f.cdf(F, n - 1, n - 1)\n",
    "\n",
    "# Define the level of significance\n",
    "alpha = 0.01\n",
    "\n",
    "# Determine if we reject or fail to reject the null hypothesis\n",
    "if p < alpha:\n",
    "    print(\"Reject the null hypothesis.\")\n",
    "else:\n",
    "    print(\"Fail to reject the null hypothesis.\")\n",
    "\n",
    "# Print the F-statistic, degrees of freedom, and p-value\n",
    "print(\"F-statistic:\", F)\n",
    "print(\"Degrees of freedom:\", n - 1, n - 1)\n",
    "print(\"p-value:\", p)\n"
   ]
  },
  {
   "attachments": {},
   "cell_type": "markdown",
   "metadata": {},
   "source": [
    "# Q6. Write a Python function that takes in the degrees of freedom for the numerator and denominator of an F-distribution and calculates the mean and variance of the distribution. The function should return the mean and variance as a tuple."
   ]
  },
  {
   "cell_type": "code",
   "execution_count": 10,
   "metadata": {},
   "outputs": [],
   "source": [
    "def f_distribution_mean_var(numerator_df, denominator_df):\n",
    "    mean = denominator_df / (denominator_df - 2)\n",
    "    variance = (2 * (denominator_df ** 2) * (numerator_df + denominator_df - 2)) / ((numerator_df * (denominator_df - 2) ** 2) * (denominator_df - 4))\n",
    "    return mean, variance\n"
   ]
  },
  {
   "cell_type": "code",
   "execution_count": 11,
   "metadata": {},
   "outputs": [
    {
     "name": "stdout",
     "output_type": "stream",
     "text": [
      "Mean: 1.25\n",
      "Variance: 1.3541666666666667\n"
     ]
    }
   ],
   "source": [
    "# Calculate the mean and variance of an F-distribution with 5 and 10 degrees of freedom\n",
    "mean, variance = f_distribution_mean_var(5, 10)\n",
    "\n",
    "# Print the mean and variance\n",
    "print(\"Mean:\", mean)\n",
    "print(\"Variance:\", variance)\n"
   ]
  },
  {
   "attachments": {},
   "cell_type": "markdown",
   "metadata": {},
   "source": [
    "# Q7. A random sample of 10 measurements is taken from a normal population with unknown variance. The sample variance is found to be 25. Another random sample of 15 measurements is taken from another normal population with unknown variance, and the sample variance is found to be 20. Conduct an F-test at the 10% significance level to determine if the variances are significantly different."
   ]
  },
  {
   "cell_type": "code",
   "execution_count": 12,
   "metadata": {},
   "outputs": [
    {
     "name": "stdout",
     "output_type": "stream",
     "text": [
      "Fail to reject the null hypothesis.\n",
      "F-statistic: 1.25\n",
      "Degrees of freedom: 9 14\n",
      "p-value: 0.6832194382585952\n"
     ]
    }
   ],
   "source": [
    "from scipy.stats import f\n",
    "\n",
    "# Define the sample sizes and sample variances\n",
    "n1 = 10\n",
    "n2 = 15\n",
    "s1_sq = 25\n",
    "s2_sq = 20\n",
    "\n",
    "# Calculate the F-statistic\n",
    "F = s1_sq / s2_sq\n",
    "\n",
    "# Calculate the p-value\n",
    "p = 2 * min(f.cdf(F, n1 - 1, n2 - 1), 1 - f.cdf(F, n1 - 1, n2 - 1))\n",
    "\n",
    "# Define the level of significance\n",
    "alpha = 0.1\n",
    "\n",
    "# Determine if we reject or fail to reject the null hypothesis\n",
    "if p < alpha:\n",
    "    print(\"Reject the null hypothesis.\")\n",
    "else:\n",
    "    print(\"Fail to reject the null hypothesis.\")\n",
    "\n",
    "# Print the F-statistic, degrees of freedom, and p-value\n",
    "print(\"F-statistic:\", F)\n",
    "print(\"Degrees of freedom:\", n1 - 1, n2 - 1)\n",
    "print(\"p-value:\", p)\n"
   ]
  },
  {
   "attachments": {},
   "cell_type": "markdown",
   "metadata": {},
   "source": [
    "# Q8. The following data represent the waiting times in minutes at two different restaurants on a Saturday night: Restaurant A: 24, 25, 28, 23, 22, 20, 27; Restaurant B: 31, 33, 35, 30, 32, 36. Conduct an F-test at the 5% significance level to determine if the variances are significantly different."
   ]
  },
  {
   "cell_type": "code",
   "execution_count": 13,
   "metadata": {},
   "outputs": [
    {
     "name": "stdout",
     "output_type": "stream",
     "text": [
      "Fail to reject the null hypothesis.\n",
      "F-statistic: 1.4551907719609583\n",
      "Degrees of freedom: 6 5\n",
      "p-value: 0.6974815747937484\n"
     ]
    }
   ],
   "source": [
    "from scipy.stats import f\n",
    "\n",
    "# Define the waiting times for each restaurant\n",
    "a = [24, 25, 28, 23, 22, 20, 27]\n",
    "b = [31, 33, 35, 30, 32, 36]\n",
    "\n",
    "# Calculate the sample variances for each restaurant\n",
    "var_a = sum((x - sum(a)/len(a))**2 for x in a) / (len(a) - 1)\n",
    "var_b = sum((x - sum(b)/len(b))**2 for x in b) / (len(b) - 1)\n",
    "\n",
    "# Calculate the F-statistic\n",
    "F = var_a / var_b\n",
    "\n",
    "# Calculate the p-value\n",
    "p = 2 * min(f.cdf(F, len(a)-1, len(b)-1), 1 - f.cdf(F, len(a)-1, len(b)-1))\n",
    "\n",
    "# Define the level of significance\n",
    "alpha = 0.05\n",
    "\n",
    "# Determine if we reject or fail to reject the null hypothesis\n",
    "if p < alpha:\n",
    "    print(\"Reject the null hypothesis.\")\n",
    "else:\n",
    "    print(\"Fail to reject the null hypothesis.\")\n",
    "\n",
    "# Print the F-statistic, degrees of freedom, and p-value\n",
    "print(\"F-statistic:\", F)\n",
    "print(\"Degrees of freedom:\", len(a) - 1, len(b) - 1)\n",
    "print(\"p-value:\", p)\n"
   ]
  },
  {
   "attachments": {},
   "cell_type": "markdown",
   "metadata": {},
   "source": [
    "# Q9. The following data represent the test scores of two groups of students: Group A: 80, 85, 90, 92, 87, 83; Group B: 75, 78, 82, 79, 81, 84. Conduct an F-test at the 1% significance level to determine if the variances are significantly different."
   ]
  },
  {
   "cell_type": "code",
   "execution_count": 14,
   "metadata": {},
   "outputs": [
    {
     "name": "stdout",
     "output_type": "stream",
     "text": [
      "Fail to reject the null hypothesis.\n",
      "F-statistic: 1.9442622950819677\n",
      "Degrees of freedom: 5 5\n",
      "p-value: 0.4831043549070688\n"
     ]
    }
   ],
   "source": [
    "from scipy.stats import f\n",
    "\n",
    "# Define the test scores for each group\n",
    "a = [80, 85, 90, 92, 87, 83]\n",
    "b = [75, 78, 82, 79, 81, 84]\n",
    "\n",
    "# Calculate the sample variances for each group\n",
    "var_a = sum((x - sum(a)/len(a))**2 for x in a) / (len(a) - 1)\n",
    "var_b = sum((x - sum(b)/len(b))**2 for x in b) / (len(b) - 1)\n",
    "\n",
    "# Calculate the F-statistic\n",
    "F = var_a / var_b\n",
    "\n",
    "# Calculate the p-value\n",
    "p = 2 * min(f.cdf(F, len(a)-1, len(b)-1), 1 - f.cdf(F, len(a)-1, len(b)-1))\n",
    "\n",
    "# Define the level of significance\n",
    "alpha = 0.01\n",
    "\n",
    "# Determine if we reject or fail to reject the null hypothesis\n",
    "if p < alpha:\n",
    "    print(\"Reject the null hypothesis.\")\n",
    "else:\n",
    "    print(\"Fail to reject the null hypothesis.\")\n",
    "\n",
    "# Print the F-statistic, degrees of freedom, and p-value\n",
    "print(\"F-statistic:\", F)\n",
    "print(\"Degrees of freedom:\", len(a) - 1, len(b) - 1)\n",
    "print(\"p-value:\", p)\n"
   ]
  }
 ],
 "metadata": {
  "kernelspec": {
   "display_name": "Python 3",
   "language": "python",
   "name": "python3"
  },
  "language_info": {
   "codemirror_mode": {
    "name": "ipython",
    "version": 3
   },
   "file_extension": ".py",
   "mimetype": "text/x-python",
   "name": "python",
   "nbconvert_exporter": "python",
   "pygments_lexer": "ipython3",
   "version": "3.11.2"
  },
  "orig_nbformat": 4
 },
 "nbformat": 4,
 "nbformat_minor": 2
}
